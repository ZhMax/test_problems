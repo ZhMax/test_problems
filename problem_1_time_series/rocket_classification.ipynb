{
 "cells": [
  {
   "cell_type": "code",
   "execution_count": 1,
   "metadata": {},
   "outputs": [],
   "source": [
    "import numpy as np\n",
    "import torch\n",
    "from torch import nn\n",
    "from torch.utils.data import Dataset, DataLoader\n",
    "\n",
    "import pandas as pd\n",
    "import scipy.stats as st\n",
    "\n",
    "import matplotlib.pyplot as plt\n",
    "import seaborn as sns\n",
    "\n",
    "from tqdm import tqdm"
   ]
  },
  {
   "cell_type": "code",
   "execution_count": 2,
   "metadata": {},
   "outputs": [],
   "source": [
    "class RocketTransformation(object):\n",
    "    \"\"\"\n",
    "    Класс, содержащий метод для создания набора сверточных слоев\n",
    "    с ядрами свертки, имеющими  случайный размер, веса и параметры dilation \n",
    "    и padding, и метод для их применения к временным рядам с целью формирования\n",
    "    новых признаков.\n",
    "\n",
    "    Attributes\n",
    "    ----------\n",
    "    candidate_kernel_sizes : np.array \n",
    "        массив, содержащий возможные размеры ядер сверток\n",
    "    in_channels : int\n",
    "        количество входных каналов в сверточный слой\n",
    "    out_channels : int\n",
    "        количество исходящих каналов из сверточного слоя\n",
    "    eps_std : float\n",
    "        константа для добавления ее в знаменатель\n",
    "\n",
    "    input_length : int\n",
    "        длина временного ряда\n",
    "    num_kernels : int\n",
    "        количество ядер сверток (сверточных слоев)\n",
    "    weight_sampling : str\n",
    "        способ формирования случайных весов для ядер сверток\n",
    "    kernel_sizes : np.array\n",
    "        массив для хранения размеров (длины) ядер сверток\n",
    "    dilations : np.array\n",
    "        массив для хранения параметра dilation сверточных слоев\n",
    "    paddings : np.array\n",
    "        массив для хранения параметров padding сверточных слоев        \n",
    "    conv1d_const_layers : list\n",
    "        список для хранения созданных сверточных слоев\n",
    "    \n",
    "    Methods\n",
    "    -------\n",
    "    fit(X_in, num_kernels, weight_sampling=None)\n",
    "        Метод для создания списка сверточных слоев nn.Conv1d\n",
    "        со случайными параметрами\n",
    "    transform(X_in)\n",
    "        Метод для формирования новых признаков для временного ряда X_in\n",
    "        путем применения к нему сверточных слоев и последующего вычисления \n",
    "        от результата свертки параметров ppv (proportion of positive values) \n",
    "        и max (максимальное значение / global max pooling) для каждого\n",
    "        сверточного слоя\n",
    "    __weights_overwrite(layer)\n",
    "        Вспомогательный метод для создания случайных весов \n",
    "        у сверточного слоя layer в соответствии с распределением\n",
    "        заданным параметром weight_sampling\n",
    "    \"\"\"\n",
    " \n",
    "    #Возможные размеры ядер сверток\n",
    "    candidate_kernel_sizes = np.array((7, 9, 11), dtype = np.int32)\n",
    "    #Количество входных и исходящих каналов сверточных слоев\n",
    "    in_channels = 1\n",
    "    out_channels = 1\n",
    "\n",
    "    #Константа добавляемая в знаменатель при нормализации величин,\n",
    "    # чтобы избежать деления на 0 \n",
    "    eps_std = 1e-8\n",
    "\n",
    "    def _weights_overwrite(self, layer):\n",
    "        \"\"\"\n",
    "        Метод для создания случайных весов ядра свертки\n",
    "        у сверточного слоя layer в сответствии с аттрибутом\n",
    "        self.weight_sampling:\n",
    "        uniform - выборка весов из равномерного распределения U(-1, 1)\n",
    "        binary - выборка весов из дискретного равномерного распределения [-1, 1]\n",
    "        ternary - выборка весов из дискретного равномерного распределения [-1, 0, 1]\n",
    "        normal (или значение отличное от предыдущих) - выборка весов из нормального распределения N(0, 1)\n",
    "        \"\"\"\n",
    "\n",
    "\n",
    "        if self.weight_sampling == 'uniform':\n",
    "            weight_init = nn.init.uniform_(layer.weight, a=-1, b=1).data #создание весов из заданного распределения\n",
    "            weight_init_mean = weight_init.mean(dim=2) #вычисление среднего значения\n",
    "            #присваивание слою весов из центрированной выборки\n",
    "            layer.weight = nn.Parameter(weight_init - weight_init_mean, requires_grad=False) \n",
    "\n",
    "        elif self.weight_sampling == 'binary':\n",
    "            weight_init = np.random.choice([-1, 1], layer.weight.shape)\n",
    "            weight_init = torch.as_tensor(weight_init, dtype=torch.float32)\n",
    "            layer.weight = nn.Parameter(weight_init, requires_grad=False)\n",
    "\n",
    "        elif self.weight_sampling == 'ternary':\n",
    "            weight_init = np.random.choice([-1, 0, 1], layer.weight.shape)\n",
    "            weight_init = torch.as_tensor(weight_init, dtype=torch.float32)\n",
    "            layer.weight = nn.Parameter(weight_init, requires_grad=False)\n",
    "\n",
    "        else:\n",
    "            weight_init = nn.init.normal_(layer.weight, mean=0, std=1).data\n",
    "            weight_init_mean = weight_init.mean(dim=2)\n",
    "            layer.weight = nn.Parameter(weight_init - weight_init_mean, requires_grad=False)\n",
    "\n",
    "        #задаем величину bias случайным значением из равномерного распределения\n",
    "        nn.init.uniform_(layer.bias, a=-1, b=1) \n",
    "        #nn.init.normal_(layer.bias, mean=0, std=1)\n",
    "        bias_init = layer.bias\n",
    "        layer.bias = nn.Parameter(bias_init, requires_grad=False)\n",
    "\n",
    "    def __init__(self):\n",
    "        self.input_length = None\n",
    "\n",
    "        self.num_kernels = None\n",
    "        self.weight_sampling = None\n",
    "        self.kernel_sizes = None\n",
    "        self.dilations = None\n",
    "        self.paddings = None\n",
    "        self.conv1d_const_layers = None\n",
    "\n",
    "    def fit(self, X_in, num_kernels, weight_sampling=None):\n",
    "        \"\"\"\n",
    "        Метод сначала создает массивы случайных значений параметров dilation, padding, \n",
    "        исходя из длины временных рядов из множества X_in. Затем данные параметры используются для создания \n",
    "        списка сверточных слоев nn.Conv1d с различными ядрами свертки, имеющими размер, \n",
    "        случайно выбранным из массива candidate_kernel_sizes, и весами, \n",
    "        случайно выбранными из распределения, определяемым параметром weight_sampling.\n",
    "\n",
    "        Parameters\n",
    "        ---------\n",
    "        X_in : np.array\n",
    "            Набор временных рядов\n",
    "        num_kernels : int\n",
    "            Количество ядер сверток (сверточных слоев)\n",
    "        weight_sampling : str\n",
    "            тип распределения, из которого будут браться веса для\n",
    "            сверточных слоев\n",
    "        \"\"\"\n",
    "\n",
    "        self.input_length = X_in.shape[1] #длина временного ряда\n",
    "        self.num_kernels = num_kernels #количество ядер (сверточных слоев)\n",
    "        self.weight_sampling = weight_sampling #тип распределения, из которого будут браться веса \n",
    "\n",
    "        #случайный выбор размеров ядер из заданного множества\n",
    "        self.kernel_sizes = np.random.choice(self.candidate_kernel_sizes, self.num_kernels)\n",
    "\n",
    "        #случайный выбор параметров dilations из заданного распределения\n",
    "        dilations_A = np.log2((self.input_length * np.ones(self.num_kernels) - 1) / (self.kernel_sizes - 1))\n",
    "        self.dilations = 2 ** np.random.uniform(0, dilations_A)\n",
    "        self.dilations = np.int32(self.dilations)\n",
    "\n",
    "        #определение параметров paddings, исходя из значений параметров dilations\n",
    "        self.paddings = (self.kernel_sizes - 1) * self.dilations * np.random.randint(2, size=self.num_kernels) // 2\n",
    "\n",
    "        self.conv1d_const_layers = [] #список сверточных слоев\n",
    "        for i in range(self.num_kernels):\n",
    "\n",
    "            #создание одномерного сверточного слоя\n",
    "            conv1d_layer = nn.Conv1d(in_channels=self.in_channels, \n",
    "                                     out_channels=self.out_channels, \n",
    "                                     kernel_size=self.kernel_sizes[i],\n",
    "                                     stride=1,\n",
    "                                     padding=self.paddings[i],\n",
    "                                     dilation=self.dilations[i], \n",
    "                                     bias=True)\n",
    "            conv1d_layer.apply(self._weights_overwrite)\n",
    "            self.conv1d_const_layers.append(conv1d_layer)\n",
    "\n",
    "    def transform(self, X_in):\n",
    "        \"\"\"\n",
    "        Метод, который применяет созданные сверточные слои nn.Conv1\n",
    "        к временным рядам из множества X_in для создания новых признаков.\n",
    "        Применение каждого сверточного слоя формирует два признака для временного ряда, \n",
    "        первый из которых равен оценке доли положительных значений (ppv) в полученной \n",
    "        после свертки последовательности, деленной на ее длину, \n",
    "        а второй - максимальному элементу полученной последовательности. \n",
    "        Метод возвращает тензор torch, строки, которого соответствуют временным рядам из \n",
    "        мн-ва X_in, а столбца новым созданным признакам.\n",
    "\n",
    "        Parameters\n",
    "        ----------\n",
    "        X_in : np.array\n",
    "            Набор временных рядов       \n",
    "        \"\"\"\n",
    "\n",
    "        assert self.input_length == X_in.shape[1], 'Incorrect dimension of input data!'\n",
    "        \n",
    "        X_torch = torch.tensor(X_in, dtype=torch.float32)\n",
    "\n",
    "        #Нормирование входных данных\n",
    "        X_torch = (X_torch - X_torch.mean(dim=1, keepdim=True)) / (X_torch.std(dim=1, keepdim=True) + self.eps_std)\n",
    "        \n",
    "        X_torch = X_torch[: , None, :] #Добавление дополнительной размерности для входных каналов\n",
    "        \n",
    "        #Применение к временным рядам сверточных слоев, полученных в методе fit,\n",
    "        #и создание новых признаков\n",
    "        X_transformed = [] #массив для хранения новых признаков, полученных путем свертки\n",
    "        with torch.no_grad():\n",
    "            for conv1d_layer in self.conv1d_const_layers:\n",
    "                output_tensor = conv1d_layer(X_torch) #расчет свертки для временного ряда\n",
    "                \n",
    "                #оценка доли положительных значений (ppv) в последовательности, \n",
    "                #полученной после свертки временного ряда, деленная на ее длину  \n",
    "                ppv_normalized = (output_tensor > 0).sum(dim=2) / output_tensor.shape[-1]\n",
    "\n",
    "                #поиск максимального значения в каждой последовательности\n",
    "                max = output_tensor.max(dim=2).values\n",
    "\n",
    "                #добавление новых признаков\n",
    "                X_transformed.extend([ppv_normalized, max])\n",
    "        X_transformed = torch.cat(X_transformed, dim=1)\n",
    "        \n",
    "        return X_transformed"
   ]
  },
  {
   "cell_type": "code",
   "execution_count": 3,
   "metadata": {},
   "outputs": [],
   "source": [
    "class TimeSeriesDataset(Dataset):\n",
    "    \"\"\"\n",
    "    Класс для формирования dataset, содержащего признаки временных рядов, \n",
    "    и в случае обучающего множества метки классов, \n",
    "    к которым они принадлежит\n",
    "\n",
    "    Attributes\n",
    "    ----------\n",
    "    eps_std : float\n",
    "        константа для добавления ее в знаменатель\n",
    "\n",
    "    X_in : np.array / torch.tensor\n",
    "        массив, содержащий признаки временных рядов\n",
    "    y_in : np.array / torch.tensor\n",
    "        массив, содержащий метки классов, к которым принадлежит\n",
    "        временной ряд\n",
    "    \"\"\"\n",
    "\n",
    "    eps_std = 1e-8\n",
    "\n",
    "    def __init__(self, X_in, y_in = None, f_mean=None, f_std=None):        \n",
    "        #поля для совокупности временных рядов и меток классов\n",
    "        self.X = torch.as_tensor(X_in, dtype=torch.float32)\n",
    "        self.y = y_in\n",
    "\n",
    "        #Нормализация входных временных рядов\n",
    "        self.f_mean = f_mean\n",
    "        self.f_std = f_std\n",
    "        self.X = (self.X - self.f_mean) / (self.f_std + self.eps_std)\n",
    "\n",
    "        # One Hot Encoding для классов\n",
    "        labels = np.int32(self.y - 1)\n",
    "        labels_ohe = np.zeros((labels.size, labels.max() + 1))\n",
    "        labels_ohe[np.arange(labels.size), labels] = 1\n",
    "        self.y = labels_ohe\n",
    "\n",
    "        #Количество временных рядов\n",
    "        self.X_len = self.X.shape[0]\n",
    "\n",
    "    def __getitem__(self, index):\n",
    "        features = self.X[index]\n",
    "        labels = None\n",
    "\n",
    "        if self.y is not None:       \n",
    "            labels = self.y[index]\n",
    "            labels = torch.as_tensor(labels, dtype=torch.float32)\n",
    "        \n",
    "        return (features, labels)\n",
    "\n",
    "    def __len__(self):\n",
    "        return self.X_len"
   ]
  },
  {
   "cell_type": "code",
   "execution_count": 4,
   "metadata": {},
   "outputs": [],
   "source": [
    "def train(model, optimizer, criterion, train_dataloader, val_dataloader, num_epochs, device='cpu'):\n",
    "    \"\"\"\n",
    "    Функция, возвращающая историю изменения целевой функции и \n",
    "    точности предсказания модели с увеличением эпох обучения модели\n",
    "\n",
    "    Parameters\n",
    "    ----------\n",
    "    model : torch.nn.Sequential\n",
    "        Модель, которая будет обучаться\n",
    "    optimizer : torch.optim\n",
    "        Алгоритм оптимизации\n",
    "    criterion : Loss Function из модуля torch.nn\n",
    "        Целевая функция\n",
    "    train_dataloader : torch.utils.data.DataLoader\n",
    "        Загрузчик батчей из обучающего множества\n",
    "    val_dataloader : torch.utils.data.DataLoader\n",
    "        Загрузчик батчей из валидационного множества\n",
    "    num_epochs : int\n",
    "        Количество эпох для обучения\n",
    "    device : str\n",
    "        Вычислительное устройство, используемое для расчетов\n",
    "\n",
    "    Returns\n",
    "    -------\n",
    "    total_loss_train_list : list\n",
    "        Список для хранения изменения значений функции ошибки на\n",
    "        предсказаниях модели на обучающем множестве\n",
    "    total_acc_train_list : list\n",
    "        Список для хранения изменения значений точности (accuracy) \n",
    "        предсказания модели на обучающем множестве\n",
    "    total_loss_val_list : list \n",
    "        Список для хранения изменения значений функции ошибки на\n",
    "        предсказаниях модели на валидационном множестве\n",
    "    total_acc_val_list : list\n",
    "        Список для хранения изменения значений точности (accuracy)\n",
    "        предсказания модели на валидационном множестве\n",
    "    \"\"\"\n",
    "\n",
    "    model.to(device) #Переносим модель на вычислительное устройство\n",
    "    \n",
    "    #Списки для хранения истории изменения \n",
    "    total_loss_train_list = []\n",
    "    total_acc_train_list = []\n",
    "\n",
    "    total_loss_val_list = []\n",
    "    total_acc_val_list = []\n",
    "    \n",
    "    #Цикл по эпохам для обучения модели и вычисления предсказания модели\n",
    "    #на валидационном множестве данных\n",
    "    for epoch_num in range(0, num_epochs):\n",
    "        #переменные для хранения точности и значения целевой функции за одну эпоху\n",
    "        total_acc_train, total_loss_train = 0.0, 0.0  \n",
    "        \n",
    "        #цикл для оптимизации весов модели\n",
    "        model.train()\n",
    "        for X_input, y_true in tqdm(train_dataloader):\n",
    "            #переносим данные на выч-ое устройство\n",
    "            X_input = X_input.to(device)\n",
    "            y_true = y_true.to(device)\n",
    "            \n",
    "            #расчет предсказаний\n",
    "            y_pred = model(X_input)\n",
    "            \n",
    "            #обнуления значений градиента\n",
    "            optimizer.zero_grad()\n",
    "\n",
    "            #вычисление функции ошибки и расчет обратного распространения ошибки\n",
    "            batch_loss = criterion(y_pred, y_true)\n",
    "            batch_loss.backward()\n",
    "            total_loss_train += batch_loss.item()\n",
    "\n",
    "            #обновление весов модели\n",
    "            optimizer.step()\n",
    "            \n",
    "            #расчет точности предсказаний на batch\n",
    "            y_pred_proba = torch.softmax(y_pred, dim=1)\n",
    "            acc = (y_pred_proba.argmax(dim=1) == y_true.argmax(dim=1)).sum().item()\n",
    "            total_acc_train += acc\n",
    "            \n",
    "\n",
    "        #расчет предсказания модели на валидационном множестве данных\n",
    "        model.eval()\n",
    "        total_loss_val, total_acc_val = 0.0, 0.0\n",
    "        for X_input, y_true in val_dataloader:\n",
    "            X_input = X_input.to(device)\n",
    "            y_true = y_true.to(device)\n",
    "            \n",
    "            y_pred = model(X_input)\n",
    "            \n",
    "            batch_loss = criterion(y_pred, y_true)\n",
    "            total_loss_val += batch_loss.item()\n",
    "\n",
    "            y_pred_proba = torch.softmax(y_pred, dim=1)\n",
    "            acc = (y_pred_proba.argmax(dim=1) == y_true.argmax(dim=1)).sum().item()\n",
    "            total_acc_val += acc\n",
    "\n",
    "        print(f'Epochs: {epoch_num + 1} | Train Loss: {total_loss_train/len(train_dataloader.dataset): .5f}\\\n",
    "            | Train Accuracy: {total_acc_train / len(train_dataloader.dataset): .3f} \\\n",
    "            | Val Loss: {total_loss_val / len(val_dataloader.dataset): .5f} \\\n",
    "            | Val Accuracy: {total_acc_val / len(val_dataloader.dataset): .3f}')\n",
    "        \n",
    "        #сохранение значения целевой функции и точности предсказаний\n",
    "        total_loss_train_list.append(total_loss_train/len(train_dataloader.dataset))\n",
    "        total_acc_train_list.append(total_acc_train / len(train_dataloader.dataset))\n",
    "\n",
    "        total_loss_val_list.append(total_loss_val / len(val_dataloader.dataset))\n",
    "        total_acc_val_list.append(total_acc_val / len(val_dataloader.dataset))\n",
    "\n",
    "    model.to('cpu')\n",
    "    return total_loss_train_list, total_acc_train_list, total_loss_val_list, total_acc_val_list"
   ]
  },
  {
   "cell_type": "code",
   "execution_count": 5,
   "metadata": {},
   "outputs": [],
   "source": [
    "def perform_experiment(X_train, X_test, y_train, y_test,\n",
    "                       seeds_value, num_kernels=7500, weight_sampling='normal',\n",
    "                       batch_size=10, learning_rate=3.2e-6, num_epochs=6, device='cuda'):\n",
    "    \"\"\"\n",
    "    Функция, возвращающая точность (accuracy) предсказаний модели, \n",
    "    полученных на обучающем множестве и валидационном множестве,\n",
    "    после обучения модели\n",
    "    \n",
    "    Parameters\n",
    "    ----------\n",
    "    X_train : np.array\n",
    "        Набор временных рядов для обучения модели\n",
    "    X_test : np.array\n",
    "        Набор временных рядов для проверки предсказаний модели\n",
    "    y_train : np.array\n",
    "        Набор меток классов, к которым принадлежат временные ряды\n",
    "        из обучающего множества\n",
    "    y_test :  np.array\n",
    "        Набор меток классов, к которым принадлежат временные ряды,\n",
    "        используемые для проверки предсказаний модели    \n",
    "    seeds_value : np.array\n",
    "        Массив значений для фиксирования генераторов случайных значений.\n",
    "        Размер массива соответсвует количеству экспериментов\n",
    "    num_kernels : int\n",
    "        Количество ядер сверток (сверточных слоев)\n",
    "    weight_sampling : str\n",
    "        Тип распределения, из которого будут браться веса для\n",
    "        сверточных слоев\n",
    "    batch_size : int\n",
    "        Размер батча\n",
    "    learning_rate : float\n",
    "        Параметр скорости обучения модели\n",
    "    num_epochs : int\n",
    "        Количество эпох для обучения\n",
    "    device : str\n",
    "        Вычислительное устройство, используемое для расчетов\n",
    "\n",
    "    Returns\n",
    "    -------\n",
    "    experiments_train_acc_list : list\n",
    "        Список для хранения точности предсказаний модели на обучающем множестве\n",
    "        после ее обучения\n",
    "    experiments_val_acc_list : list\n",
    "        Список для хранения точности предсказаний модели на тестовом(валидационном) \n",
    "        множестве после ее обучения\n",
    "    \"\"\"\n",
    "    \n",
    "    #Списки для хранения точности предсказаний модели в каждом эксперименте\n",
    "    experiments_train_acc_list = []\n",
    "    experiments_val_acc_list = []\n",
    "\n",
    "    for idx_experiment, seed_value in enumerate(seeds_value):\n",
    "        print(f'Experiment {idx_experiment}')\n",
    "        \n",
    "        #Фиксируем random seed\n",
    "        torch.manual_seed(seed_value)\n",
    "        np.random.seed(seed_value)\n",
    "\n",
    "        #Создаем признаки для временных рядов путем применения сверточных слоев\n",
    "        transformer = RocketTransformation()\n",
    "        transformer.fit(X_train, num_kernels, weight_sampling)\n",
    "        X_train_transformed = transformer.transform(X_train)\n",
    "        X_test_transformed = transformer.transform(X_test)\n",
    "\n",
    "        #Создаем загрузчики данных для формирования batchs\n",
    "        f_mean_train = X_train_transformed.mean(dim=0, keepdim=True)\n",
    "        f_std_train = X_train_transformed.std(dim=0, keepdim=True)\n",
    "\n",
    "        train_dataset = TimeSeriesDataset(X_train_transformed, y_train, f_mean=f_mean_train, f_std=f_std_train)\n",
    "        val_dataset = TimeSeriesDataset(X_test_transformed, y_test, f_mean=f_mean_train, f_std=f_std_train)\n",
    "\n",
    "        train_dataloader = DataLoader(train_dataset, batch_size=batch_size, shuffle=True)\n",
    "        val_dataloader = DataLoader(val_dataset, batch_size=batch_size, shuffle=False)\n",
    "\n",
    "        #Определяем модель\n",
    "        num_features = 2 * num_kernels\n",
    "        num_classes = np.unique(y_train).size\n",
    "        model = nn.Sequential(nn.Linear(num_features, num_classes, bias=True))\n",
    "\n",
    "        #Инициализация весов для модели\n",
    "        #weight_min = -np.sqrt(1 / num_features)\n",
    "        #weight_max = np.sqrt(1 / num_features)\n",
    "        #for layer in model._modules.values():\n",
    "        #    torch.nn.init.uniform_(layer.weight, a=weight_min, b=weight_max)\n",
    "\n",
    "        #Определяем методы оптимизации для поиска весов\n",
    "        optimizer = torch.optim.SGD(model.parameters(), lr=learning_rate, momentum=0.98)\n",
    "\n",
    "        #optimizer = torch.optim.Adam(model.parameters(), lr=learning_rate)\n",
    "\n",
    "        \n",
    "        #Определяем целевую функцию\n",
    "        criterion = nn.CrossEntropyLoss()\n",
    "\n",
    "        #Выполняем обучение модели\n",
    "        train_results = train(model, optimizer, criterion, train_dataloader, val_dataloader, \n",
    "                              num_epochs=num_epochs, device=device)\n",
    "\n",
    "        #Запоминаем точность, полученную на train и validation datasets на заключительной эпохе\n",
    "        experiments_train_acc_list.append(train_results[1][-1])\n",
    "        experiments_val_acc_list.append(train_results[3][-1])\n",
    "            \n",
    "    return experiments_train_acc_list, experiments_val_acc_list"
   ]
  },
  {
   "cell_type": "code",
   "execution_count": 6,
   "metadata": {},
   "outputs": [],
   "source": [
    "def get_half_of_conf_interval(x, confidence=0.95):\n",
    "    #Функция для расчета полуширины доверительного интервала\n",
    "    n = x.size\n",
    "    s = np.std(x, ddof=1) #среднеквадратическое отклонение (несмещенная оценка)\n",
    "    t = st.t.ppf((1 + confidence) / 2., n-1) #коэффициент Стьюдента\n",
    "    hwidth = t * s / np.sqrt(n)\n",
    "    return hwidth"
   ]
  },
  {
   "attachments": {},
   "cell_type": "markdown",
   "metadata": {},
   "source": [
    "## Загрузка данных"
   ]
  },
  {
   "cell_type": "code",
   "execution_count": 7,
   "metadata": {},
   "outputs": [],
   "source": [
    "FOLDER_DATASET = './datasets/Ham/'\n",
    "\n",
    "ar_train = np.genfromtxt(FOLDER_DATASET + 'Ham_TRAIN.txt')\n",
    "ar_test = np.genfromtxt(FOLDER_DATASET + 'Ham_TEST.txt')\n",
    "\n",
    "X_train = ar_train[..., 1:]\n",
    "y_train = ar_train[..., 0]\n",
    "\n",
    "X_test = ar_test[..., 1:]\n",
    "y_test = ar_test[..., 0]"
   ]
  },
  {
   "attachments": {},
   "cell_type": "markdown",
   "metadata": {},
   "source": [
    "## Проведение вычислительных экспериментов"
   ]
  },
  {
   "attachments": {},
   "cell_type": "markdown",
   "metadata": {},
   "source": [
    "Проведем 5 вычислительных экспериментов для каждого типа ядер сверточных слоев.\n",
    "Здесь <br>\n",
    "normal - семплирование весов из нормального распределения $N(0, 1)$, с последующим центрированием <br>\n",
    "uniform - семплирование весов из однородного распределения $U(0, 1)$, с последующим центрированием <br>\n",
    "binary - семплирование весов из множества $[0, 1]$ <br>\n",
    "ternary - семплирование весов из множества $[-1, 0, 1]$ <br>"
   ]
  },
  {
   "attachments": {},
   "cell_type": "markdown",
   "metadata": {},
   "source": [
    "Обучение модели будем выполнять на всем обучающем множестве <br>\n",
    "Проверку значений будем выполнять на всем тестовом множестве <br>\n",
    "Все эксперименты проводятся с одной скоростью обучения и для одинакового количества эпох обучения."
   ]
  },
  {
   "cell_type": "code",
   "execution_count": 8,
   "metadata": {},
   "outputs": [
    {
     "name": "stdout",
     "output_type": "stream",
     "text": [
      "normal\n",
      "Experiment 0\n"
     ]
    },
    {
     "name": "stderr",
     "output_type": "stream",
     "text": [
      "100%|██████████| 11/11 [00:00<00:00, 14.85it/s]\n"
     ]
    },
    {
     "name": "stdout",
     "output_type": "stream",
     "text": [
      "Epochs: 1 | Train Loss:  0.07270            | Train Accuracy:  0.505             | Val Loss:  123.43117             | Val Accuracy:  0.638\n"
     ]
    },
    {
     "name": "stderr",
     "output_type": "stream",
     "text": [
      "100%|██████████| 11/11 [00:00<00:00, 500.07it/s]\n"
     ]
    },
    {
     "name": "stdout",
     "output_type": "stream",
     "text": [
      "Epochs: 2 | Train Loss:  0.06836            | Train Accuracy:  0.569             | Val Loss:  123.42887             | Val Accuracy:  0.657\n"
     ]
    },
    {
     "name": "stderr",
     "output_type": "stream",
     "text": [
      "100%|██████████| 11/11 [00:00<00:00, 500.12it/s]\n"
     ]
    },
    {
     "name": "stdout",
     "output_type": "stream",
     "text": [
      "Epochs: 3 | Train Loss:  0.06234            | Train Accuracy:  0.670             | Val Loss:  123.42645             | Val Accuracy:  0.657\n"
     ]
    },
    {
     "name": "stderr",
     "output_type": "stream",
     "text": [
      "100%|██████████| 11/11 [00:00<00:00, 523.67it/s]\n"
     ]
    },
    {
     "name": "stdout",
     "output_type": "stream",
     "text": [
      "Epochs: 4 | Train Loss:  0.05551            | Train Accuracy:  0.771             | Val Loss:  123.42330             | Val Accuracy:  0.695\n"
     ]
    },
    {
     "name": "stderr",
     "output_type": "stream",
     "text": [
      "100%|██████████| 11/11 [00:00<00:00, 550.09it/s]\n"
     ]
    },
    {
     "name": "stdout",
     "output_type": "stream",
     "text": [
      "Epochs: 5 | Train Loss:  0.04900            | Train Accuracy:  0.844             | Val Loss:  123.42009             | Val Accuracy:  0.724\n"
     ]
    },
    {
     "name": "stderr",
     "output_type": "stream",
     "text": [
      "100%|██████████| 11/11 [00:00<00:00, 500.09it/s]\n"
     ]
    },
    {
     "name": "stdout",
     "output_type": "stream",
     "text": [
      "Epochs: 6 | Train Loss:  0.04317            | Train Accuracy:  0.881             | Val Loss:  123.41767             | Val Accuracy:  0.752\n",
      "Experiment 1\n"
     ]
    },
    {
     "name": "stderr",
     "output_type": "stream",
     "text": [
      "100%|██████████| 11/11 [00:00<00:00, 268.29it/s]\n"
     ]
    },
    {
     "name": "stdout",
     "output_type": "stream",
     "text": [
      "Epochs: 1 | Train Loss:  0.07761            | Train Accuracy:  0.523             | Val Loss:  0.07855             | Val Accuracy:  0.571\n"
     ]
    },
    {
     "name": "stderr",
     "output_type": "stream",
     "text": [
      "100%|██████████| 11/11 [00:00<00:00, 239.13it/s]\n"
     ]
    },
    {
     "name": "stdout",
     "output_type": "stream",
     "text": [
      "Epochs: 2 | Train Loss:  0.07086            | Train Accuracy:  0.541             | Val Loss:  0.06933             | Val Accuracy:  0.648\n"
     ]
    },
    {
     "name": "stderr",
     "output_type": "stream",
     "text": [
      "100%|██████████| 11/11 [00:00<00:00, 289.48it/s]\n"
     ]
    },
    {
     "name": "stdout",
     "output_type": "stream",
     "text": [
      "Epochs: 3 | Train Loss:  0.06353            | Train Accuracy:  0.615             | Val Loss:  0.06257             | Val Accuracy:  0.705\n"
     ]
    },
    {
     "name": "stderr",
     "output_type": "stream",
     "text": [
      "100%|██████████| 11/11 [00:00<00:00, 647.06it/s]\n"
     ]
    },
    {
     "name": "stdout",
     "output_type": "stream",
     "text": [
      "Epochs: 4 | Train Loss:  0.05752            | Train Accuracy:  0.752             | Val Loss:  0.05716             | Val Accuracy:  0.752\n"
     ]
    },
    {
     "name": "stderr",
     "output_type": "stream",
     "text": [
      "100%|██████████| 11/11 [00:00<00:00, 500.04it/s]\n"
     ]
    },
    {
     "name": "stdout",
     "output_type": "stream",
     "text": [
      "Epochs: 5 | Train Loss:  0.05229            | Train Accuracy:  0.798             | Val Loss:  0.05322             | Val Accuracy:  0.781\n"
     ]
    },
    {
     "name": "stderr",
     "output_type": "stream",
     "text": [
      "100%|██████████| 11/11 [00:00<00:00, 500.16it/s]\n"
     ]
    },
    {
     "name": "stdout",
     "output_type": "stream",
     "text": [
      "Epochs: 6 | Train Loss:  0.04622            | Train Accuracy:  0.817             | Val Loss:  0.05067             | Val Accuracy:  0.790\n",
      "Experiment 2\n"
     ]
    },
    {
     "name": "stderr",
     "output_type": "stream",
     "text": [
      "100%|██████████| 11/11 [00:00<00:00, 647.01it/s]\n"
     ]
    },
    {
     "name": "stdout",
     "output_type": "stream",
     "text": [
      "Epochs: 1 | Train Loss:  0.06758            | Train Accuracy:  0.578             | Val Loss:  0.06434             | Val Accuracy:  0.724\n"
     ]
    },
    {
     "name": "stderr",
     "output_type": "stream",
     "text": [
      "100%|██████████| 11/11 [00:00<00:00, 687.64it/s]\n"
     ]
    },
    {
     "name": "stdout",
     "output_type": "stream",
     "text": [
      "Epochs: 2 | Train Loss:  0.06310            | Train Accuracy:  0.670             | Val Loss:  0.06235             | Val Accuracy:  0.686\n"
     ]
    },
    {
     "name": "stderr",
     "output_type": "stream",
     "text": [
      "100%|██████████| 11/11 [00:00<00:00, 647.10it/s]\n"
     ]
    },
    {
     "name": "stdout",
     "output_type": "stream",
     "text": [
      "Epochs: 3 | Train Loss:  0.05891            | Train Accuracy:  0.725             | Val Loss:  0.06205             | Val Accuracy:  0.714\n"
     ]
    },
    {
     "name": "stderr",
     "output_type": "stream",
     "text": [
      "100%|██████████| 11/11 [00:00<00:00, 687.56it/s]\n"
     ]
    },
    {
     "name": "stdout",
     "output_type": "stream",
     "text": [
      "Epochs: 4 | Train Loss:  0.05374            | Train Accuracy:  0.761             | Val Loss:  0.05968             | Val Accuracy:  0.714\n"
     ]
    },
    {
     "name": "stderr",
     "output_type": "stream",
     "text": [
      "100%|██████████| 11/11 [00:00<00:00, 647.06it/s]\n"
     ]
    },
    {
     "name": "stdout",
     "output_type": "stream",
     "text": [
      "Epochs: 5 | Train Loss:  0.04817            | Train Accuracy:  0.862             | Val Loss:  0.05807             | Val Accuracy:  0.724\n"
     ]
    },
    {
     "name": "stderr",
     "output_type": "stream",
     "text": [
      "100%|██████████| 11/11 [00:00<00:00, 499.97it/s]\n"
     ]
    },
    {
     "name": "stdout",
     "output_type": "stream",
     "text": [
      "Epochs: 6 | Train Loss:  0.04397            | Train Accuracy:  0.853             | Val Loss:  0.05685             | Val Accuracy:  0.743\n",
      "Experiment 3\n"
     ]
    },
    {
     "name": "stderr",
     "output_type": "stream",
     "text": [
      "100%|██████████| 11/11 [00:00<00:00, 647.04it/s]\n"
     ]
    },
    {
     "name": "stdout",
     "output_type": "stream",
     "text": [
      "Epochs: 1 | Train Loss:  0.06594            | Train Accuracy:  0.578             | Val Loss:  0.06591             | Val Accuracy:  0.638\n"
     ]
    },
    {
     "name": "stderr",
     "output_type": "stream",
     "text": [
      "100%|██████████| 11/11 [00:00<00:00, 611.13it/s]\n"
     ]
    },
    {
     "name": "stdout",
     "output_type": "stream",
     "text": [
      "Epochs: 2 | Train Loss:  0.06261            | Train Accuracy:  0.661             | Val Loss:  0.06268             | Val Accuracy:  0.686\n"
     ]
    },
    {
     "name": "stderr",
     "output_type": "stream",
     "text": [
      "100%|██████████| 11/11 [00:00<00:00, 647.15it/s]\n"
     ]
    },
    {
     "name": "stdout",
     "output_type": "stream",
     "text": [
      "Epochs: 3 | Train Loss:  0.05757            | Train Accuracy:  0.734             | Val Loss:  0.05888             | Val Accuracy:  0.695\n"
     ]
    },
    {
     "name": "stderr",
     "output_type": "stream",
     "text": [
      "100%|██████████| 11/11 [00:00<00:00, 647.08it/s]\n"
     ]
    },
    {
     "name": "stdout",
     "output_type": "stream",
     "text": [
      "Epochs: 4 | Train Loss:  0.05200            | Train Accuracy:  0.771             | Val Loss:  0.05585             | Val Accuracy:  0.724\n"
     ]
    },
    {
     "name": "stderr",
     "output_type": "stream",
     "text": [
      "100%|██████████| 11/11 [00:00<00:00, 550.02it/s]\n"
     ]
    },
    {
     "name": "stdout",
     "output_type": "stream",
     "text": [
      "Epochs: 5 | Train Loss:  0.04737            | Train Accuracy:  0.826             | Val Loss:  0.05378             | Val Accuracy:  0.762\n"
     ]
    },
    {
     "name": "stderr",
     "output_type": "stream",
     "text": [
      "100%|██████████| 11/11 [00:00<00:00, 611.12it/s]\n"
     ]
    },
    {
     "name": "stdout",
     "output_type": "stream",
     "text": [
      "Epochs: 6 | Train Loss:  0.04242            | Train Accuracy:  0.862             | Val Loss:  0.05218             | Val Accuracy:  0.771\n",
      "Experiment 4\n"
     ]
    },
    {
     "name": "stderr",
     "output_type": "stream",
     "text": [
      "100%|██████████| 11/11 [00:00<00:00, 647.13it/s]\n"
     ]
    },
    {
     "name": "stdout",
     "output_type": "stream",
     "text": [
      "Epochs: 1 | Train Loss:  0.07004            | Train Accuracy:  0.532             | Val Loss:  383.03277             | Val Accuracy:  0.581\n"
     ]
    },
    {
     "name": "stderr",
     "output_type": "stream",
     "text": [
      "100%|██████████| 11/11 [00:00<00:00, 647.11it/s]\n"
     ]
    },
    {
     "name": "stdout",
     "output_type": "stream",
     "text": [
      "Epochs: 2 | Train Loss:  0.06476            | Train Accuracy:  0.615             | Val Loss:  383.02270             | Val Accuracy:  0.705\n"
     ]
    },
    {
     "name": "stderr",
     "output_type": "stream",
     "text": [
      "100%|██████████| 11/11 [00:00<00:00, 523.80it/s]\n"
     ]
    },
    {
     "name": "stdout",
     "output_type": "stream",
     "text": [
      "Epochs: 3 | Train Loss:  0.05825            | Train Accuracy:  0.706             | Val Loss:  383.01477             | Val Accuracy:  0.752\n"
     ]
    },
    {
     "name": "stderr",
     "output_type": "stream",
     "text": [
      "100%|██████████| 11/11 [00:00<00:00, 647.09it/s]\n"
     ]
    },
    {
     "name": "stdout",
     "output_type": "stream",
     "text": [
      "Epochs: 4 | Train Loss:  0.05231            | Train Accuracy:  0.780             | Val Loss:  383.00983             | Val Accuracy:  0.743\n"
     ]
    },
    {
     "name": "stderr",
     "output_type": "stream",
     "text": [
      "100%|██████████| 11/11 [00:00<00:00, 611.12it/s]\n"
     ]
    },
    {
     "name": "stdout",
     "output_type": "stream",
     "text": [
      "Epochs: 5 | Train Loss:  0.04704            | Train Accuracy:  0.826             | Val Loss:  383.00644             | Val Accuracy:  0.771\n"
     ]
    },
    {
     "name": "stderr",
     "output_type": "stream",
     "text": [
      "100%|██████████| 11/11 [00:00<00:00, 687.52it/s]\n"
     ]
    },
    {
     "name": "stdout",
     "output_type": "stream",
     "text": [
      "Epochs: 6 | Train Loss:  0.04175            | Train Accuracy:  0.862             | Val Loss:  383.00457             | Val Accuracy:  0.810\n",
      "uniform\n",
      "Experiment 0\n"
     ]
    },
    {
     "name": "stderr",
     "output_type": "stream",
     "text": [
      "100%|██████████| 11/11 [00:00<00:00, 239.15it/s]\n"
     ]
    },
    {
     "name": "stdout",
     "output_type": "stream",
     "text": [
      "Epochs: 1 | Train Loss:  0.07637            | Train Accuracy:  0.431             | Val Loss:  2.67315             | Val Accuracy:  0.581\n"
     ]
    },
    {
     "name": "stderr",
     "output_type": "stream",
     "text": [
      "100%|██████████| 11/11 [00:00<00:00, 255.82it/s]\n"
     ]
    },
    {
     "name": "stdout",
     "output_type": "stream",
     "text": [
      "Epochs: 2 | Train Loss:  0.07257            | Train Accuracy:  0.486             | Val Loss:  2.67110             | Val Accuracy:  0.629\n"
     ]
    },
    {
     "name": "stderr",
     "output_type": "stream",
     "text": [
      "100%|██████████| 11/11 [00:00<00:00, 255.81it/s]\n"
     ]
    },
    {
     "name": "stdout",
     "output_type": "stream",
     "text": [
      "Epochs: 3 | Train Loss:  0.06478            | Train Accuracy:  0.651             | Val Loss:  2.66403             | Val Accuracy:  0.667\n"
     ]
    },
    {
     "name": "stderr",
     "output_type": "stream",
     "text": [
      "100%|██████████| 11/11 [00:00<00:00, 647.03it/s]\n"
     ]
    },
    {
     "name": "stdout",
     "output_type": "stream",
     "text": [
      "Epochs: 4 | Train Loss:  0.05675            | Train Accuracy:  0.734             | Val Loss:  2.66115             | Val Accuracy:  0.676\n"
     ]
    },
    {
     "name": "stderr",
     "output_type": "stream",
     "text": [
      "100%|██████████| 11/11 [00:00<00:00, 550.07it/s]\n"
     ]
    },
    {
     "name": "stdout",
     "output_type": "stream",
     "text": [
      "Epochs: 5 | Train Loss:  0.04982            | Train Accuracy:  0.826             | Val Loss:  2.65925             | Val Accuracy:  0.695\n"
     ]
    },
    {
     "name": "stderr",
     "output_type": "stream",
     "text": [
      "100%|██████████| 11/11 [00:00<00:00, 500.01it/s]\n"
     ]
    },
    {
     "name": "stdout",
     "output_type": "stream",
     "text": [
      "Epochs: 6 | Train Loss:  0.04400            | Train Accuracy:  0.881             | Val Loss:  2.65908             | Val Accuracy:  0.724\n",
      "Experiment 1\n"
     ]
    },
    {
     "name": "stderr",
     "output_type": "stream",
     "text": [
      "100%|██████████| 11/11 [00:00<00:00, 647.09it/s]\n"
     ]
    },
    {
     "name": "stdout",
     "output_type": "stream",
     "text": [
      "Epochs: 1 | Train Loss:  0.07290            | Train Accuracy:  0.495             | Val Loss:  0.07707             | Val Accuracy:  0.505\n"
     ]
    },
    {
     "name": "stderr",
     "output_type": "stream",
     "text": [
      "100%|██████████| 11/11 [00:00<00:00, 611.18it/s]\n"
     ]
    },
    {
     "name": "stdout",
     "output_type": "stream",
     "text": [
      "Epochs: 2 | Train Loss:  0.06578            | Train Accuracy:  0.596             | Val Loss:  0.07306             | Val Accuracy:  0.600\n"
     ]
    },
    {
     "name": "stderr",
     "output_type": "stream",
     "text": [
      "100%|██████████| 11/11 [00:00<00:00, 578.92it/s]\n"
     ]
    },
    {
     "name": "stdout",
     "output_type": "stream",
     "text": [
      "Epochs: 3 | Train Loss:  0.06051            | Train Accuracy:  0.688             | Val Loss:  0.07003             | Val Accuracy:  0.619\n"
     ]
    },
    {
     "name": "stderr",
     "output_type": "stream",
     "text": [
      "100%|██████████| 11/11 [00:00<00:00, 578.94it/s]\n"
     ]
    },
    {
     "name": "stdout",
     "output_type": "stream",
     "text": [
      "Epochs: 4 | Train Loss:  0.05471            | Train Accuracy:  0.725             | Val Loss:  0.06459             | Val Accuracy:  0.667\n"
     ]
    },
    {
     "name": "stderr",
     "output_type": "stream",
     "text": [
      "100%|██████████| 11/11 [00:00<00:00, 647.06it/s]\n"
     ]
    },
    {
     "name": "stdout",
     "output_type": "stream",
     "text": [
      "Epochs: 5 | Train Loss:  0.04793            | Train Accuracy:  0.798             | Val Loss:  0.06033             | Val Accuracy:  0.686\n"
     ]
    },
    {
     "name": "stderr",
     "output_type": "stream",
     "text": [
      "100%|██████████| 11/11 [00:00<00:00, 500.03it/s]\n"
     ]
    },
    {
     "name": "stdout",
     "output_type": "stream",
     "text": [
      "Epochs: 6 | Train Loss:  0.04362            | Train Accuracy:  0.853             | Val Loss:  0.06003             | Val Accuracy:  0.733\n",
      "Experiment 2\n"
     ]
    },
    {
     "name": "stderr",
     "output_type": "stream",
     "text": [
      "100%|██████████| 11/11 [00:00<00:00, 647.07it/s]\n"
     ]
    },
    {
     "name": "stdout",
     "output_type": "stream",
     "text": [
      "Epochs: 1 | Train Loss:  0.06763            | Train Accuracy:  0.679             | Val Loss:  0.07086             | Val Accuracy:  0.629\n"
     ]
    },
    {
     "name": "stderr",
     "output_type": "stream",
     "text": [
      "100%|██████████| 11/11 [00:00<00:00, 647.06it/s]\n"
     ]
    },
    {
     "name": "stdout",
     "output_type": "stream",
     "text": [
      "Epochs: 2 | Train Loss:  0.06405            | Train Accuracy:  0.688             | Val Loss:  0.06547             | Val Accuracy:  0.667\n"
     ]
    },
    {
     "name": "stderr",
     "output_type": "stream",
     "text": [
      "100%|██████████| 11/11 [00:00<00:00, 611.13it/s]\n"
     ]
    },
    {
     "name": "stdout",
     "output_type": "stream",
     "text": [
      "Epochs: 3 | Train Loss:  0.05741            | Train Accuracy:  0.780             | Val Loss:  0.06050             | Val Accuracy:  0.724\n"
     ]
    },
    {
     "name": "stderr",
     "output_type": "stream",
     "text": [
      "100%|██████████| 11/11 [00:00<00:00, 687.50it/s]\n"
     ]
    },
    {
     "name": "stdout",
     "output_type": "stream",
     "text": [
      "Epochs: 4 | Train Loss:  0.05139            | Train Accuracy:  0.817             | Val Loss:  0.05663             | Val Accuracy:  0.771\n"
     ]
    },
    {
     "name": "stderr",
     "output_type": "stream",
     "text": [
      "100%|██████████| 11/11 [00:00<00:00, 647.12it/s]\n"
     ]
    },
    {
     "name": "stdout",
     "output_type": "stream",
     "text": [
      "Epochs: 5 | Train Loss:  0.04567            | Train Accuracy:  0.844             | Val Loss:  0.05459             | Val Accuracy:  0.800\n"
     ]
    },
    {
     "name": "stderr",
     "output_type": "stream",
     "text": [
      "100%|██████████| 11/11 [00:00<00:00, 500.01it/s]\n"
     ]
    },
    {
     "name": "stdout",
     "output_type": "stream",
     "text": [
      "Epochs: 6 | Train Loss:  0.04056            | Train Accuracy:  0.908             | Val Loss:  0.05330             | Val Accuracy:  0.790\n",
      "Experiment 3\n"
     ]
    },
    {
     "name": "stderr",
     "output_type": "stream",
     "text": [
      "100%|██████████| 11/11 [00:00<00:00, 687.48it/s]\n"
     ]
    },
    {
     "name": "stdout",
     "output_type": "stream",
     "text": [
      "Epochs: 1 | Train Loss:  0.07460            | Train Accuracy:  0.486             | Val Loss:  0.07706             | Val Accuracy:  0.562\n"
     ]
    },
    {
     "name": "stderr",
     "output_type": "stream",
     "text": [
      "100%|██████████| 11/11 [00:00<00:00, 647.04it/s]\n"
     ]
    },
    {
     "name": "stdout",
     "output_type": "stream",
     "text": [
      "Epochs: 2 | Train Loss:  0.06455            | Train Accuracy:  0.651             | Val Loss:  0.06441             | Val Accuracy:  0.648\n"
     ]
    },
    {
     "name": "stderr",
     "output_type": "stream",
     "text": [
      "100%|██████████| 11/11 [00:00<00:00, 611.11it/s]\n"
     ]
    },
    {
     "name": "stdout",
     "output_type": "stream",
     "text": [
      "Epochs: 3 | Train Loss:  0.06096            | Train Accuracy:  0.697             | Val Loss:  0.06250             | Val Accuracy:  0.686\n"
     ]
    },
    {
     "name": "stderr",
     "output_type": "stream",
     "text": [
      "100%|██████████| 11/11 [00:00<00:00, 647.05it/s]\n"
     ]
    },
    {
     "name": "stdout",
     "output_type": "stream",
     "text": [
      "Epochs: 4 | Train Loss:  0.05701            | Train Accuracy:  0.725             | Val Loss:  0.05706             | Val Accuracy:  0.733\n"
     ]
    },
    {
     "name": "stderr",
     "output_type": "stream",
     "text": [
      "100%|██████████| 11/11 [00:00<00:00, 379.30it/s]\n"
     ]
    },
    {
     "name": "stdout",
     "output_type": "stream",
     "text": [
      "Epochs: 5 | Train Loss:  0.04956            | Train Accuracy:  0.761             | Val Loss:  0.05242             | Val Accuracy:  0.781\n"
     ]
    },
    {
     "name": "stderr",
     "output_type": "stream",
     "text": [
      "100%|██████████| 11/11 [00:00<00:00, 392.81it/s]\n"
     ]
    },
    {
     "name": "stdout",
     "output_type": "stream",
     "text": [
      "Epochs: 6 | Train Loss:  0.04240            | Train Accuracy:  0.862             | Val Loss:  0.05430             | Val Accuracy:  0.743\n",
      "Experiment 4\n"
     ]
    },
    {
     "name": "stderr",
     "output_type": "stream",
     "text": [
      "100%|██████████| 11/11 [00:00<00:00, 234.04it/s]\n"
     ]
    },
    {
     "name": "stdout",
     "output_type": "stream",
     "text": [
      "Epochs: 1 | Train Loss:  0.07249            | Train Accuracy:  0.514             | Val Loss:  197.10447             | Val Accuracy:  0.552\n"
     ]
    },
    {
     "name": "stderr",
     "output_type": "stream",
     "text": [
      "100%|██████████| 11/11 [00:00<00:00, 97.35it/s]\n"
     ]
    },
    {
     "name": "stdout",
     "output_type": "stream",
     "text": [
      "Epochs: 2 | Train Loss:  0.06832            | Train Accuracy:  0.569             | Val Loss:  197.10032             | Val Accuracy:  0.600\n"
     ]
    },
    {
     "name": "stderr",
     "output_type": "stream",
     "text": [
      "100%|██████████| 11/11 [00:00<00:00, 410.97it/s]\n"
     ]
    },
    {
     "name": "stdout",
     "output_type": "stream",
     "text": [
      "Epochs: 3 | Train Loss:  0.06196            | Train Accuracy:  0.679             | Val Loss:  197.09617             | Val Accuracy:  0.657\n"
     ]
    },
    {
     "name": "stderr",
     "output_type": "stream",
     "text": [
      "100%|██████████| 11/11 [00:00<00:00, 550.01it/s]\n"
     ]
    },
    {
     "name": "stdout",
     "output_type": "stream",
     "text": [
      "Epochs: 4 | Train Loss:  0.05445            | Train Accuracy:  0.826             | Val Loss:  197.09051             | Val Accuracy:  0.667\n"
     ]
    },
    {
     "name": "stderr",
     "output_type": "stream",
     "text": [
      "100%|██████████| 11/11 [00:00<00:00, 578.97it/s]\n"
     ]
    },
    {
     "name": "stdout",
     "output_type": "stream",
     "text": [
      "Epochs: 5 | Train Loss:  0.04806            | Train Accuracy:  0.872             | Val Loss:  197.08610             | Val Accuracy:  0.657\n"
     ]
    },
    {
     "name": "stderr",
     "output_type": "stream",
     "text": [
      "100%|██████████| 11/11 [00:00<00:00, 611.07it/s]\n"
     ]
    },
    {
     "name": "stdout",
     "output_type": "stream",
     "text": [
      "Epochs: 6 | Train Loss:  0.04197            | Train Accuracy:  0.899             | Val Loss:  197.08238             | Val Accuracy:  0.705\n",
      "binary\n",
      "Experiment 0\n"
     ]
    },
    {
     "name": "stderr",
     "output_type": "stream",
     "text": [
      "100%|██████████| 11/11 [00:00<00:00, 578.93it/s]\n"
     ]
    },
    {
     "name": "stdout",
     "output_type": "stream",
     "text": [
      "Epochs: 1 | Train Loss:  0.06621            | Train Accuracy:  0.569             | Val Loss:  0.06623             | Val Accuracy:  0.648\n"
     ]
    },
    {
     "name": "stderr",
     "output_type": "stream",
     "text": [
      "100%|██████████| 11/11 [00:00<00:00, 611.13it/s]\n"
     ]
    },
    {
     "name": "stdout",
     "output_type": "stream",
     "text": [
      "Epochs: 2 | Train Loss:  0.05959            | Train Accuracy:  0.725             | Val Loss:  0.06265             | Val Accuracy:  0.657\n"
     ]
    },
    {
     "name": "stderr",
     "output_type": "stream",
     "text": [
      "100%|██████████| 11/11 [00:00<00:00, 611.21it/s]\n"
     ]
    },
    {
     "name": "stdout",
     "output_type": "stream",
     "text": [
      "Epochs: 3 | Train Loss:  0.05511            | Train Accuracy:  0.789             | Val Loss:  0.06213             | Val Accuracy:  0.705\n"
     ]
    },
    {
     "name": "stderr",
     "output_type": "stream",
     "text": [
      "100%|██████████| 11/11 [00:00<00:00, 499.96it/s]\n"
     ]
    },
    {
     "name": "stdout",
     "output_type": "stream",
     "text": [
      "Epochs: 4 | Train Loss:  0.05147            | Train Accuracy:  0.798             | Val Loss:  0.06076             | Val Accuracy:  0.724\n"
     ]
    },
    {
     "name": "stderr",
     "output_type": "stream",
     "text": [
      "100%|██████████| 11/11 [00:00<00:00, 611.08it/s]\n"
     ]
    },
    {
     "name": "stdout",
     "output_type": "stream",
     "text": [
      "Epochs: 5 | Train Loss:  0.04635            | Train Accuracy:  0.835             | Val Loss:  0.05767             | Val Accuracy:  0.733\n"
     ]
    },
    {
     "name": "stderr",
     "output_type": "stream",
     "text": [
      "100%|██████████| 11/11 [00:00<00:00, 523.73it/s]\n"
     ]
    },
    {
     "name": "stdout",
     "output_type": "stream",
     "text": [
      "Epochs: 6 | Train Loss:  0.04152            | Train Accuracy:  0.872             | Val Loss:  0.05405             | Val Accuracy:  0.743\n",
      "Experiment 1\n"
     ]
    },
    {
     "name": "stderr",
     "output_type": "stream",
     "text": [
      "100%|██████████| 11/11 [00:00<00:00, 611.10it/s]\n"
     ]
    },
    {
     "name": "stdout",
     "output_type": "stream",
     "text": [
      "Epochs: 1 | Train Loss:  0.07366            | Train Accuracy:  0.550             | Val Loss:  0.06858             | Val Accuracy:  0.581\n"
     ]
    },
    {
     "name": "stderr",
     "output_type": "stream",
     "text": [
      "100%|██████████| 11/11 [00:00<00:00, 647.07it/s]\n"
     ]
    },
    {
     "name": "stdout",
     "output_type": "stream",
     "text": [
      "Epochs: 2 | Train Loss:  0.06916            | Train Accuracy:  0.624             | Val Loss:  0.06386             | Val Accuracy:  0.638\n"
     ]
    },
    {
     "name": "stderr",
     "output_type": "stream",
     "text": [
      "100%|██████████| 11/11 [00:00<00:00, 687.55it/s]\n"
     ]
    },
    {
     "name": "stdout",
     "output_type": "stream",
     "text": [
      "Epochs: 3 | Train Loss:  0.06281            | Train Accuracy:  0.697             | Val Loss:  0.05825             | Val Accuracy:  0.705\n"
     ]
    },
    {
     "name": "stderr",
     "output_type": "stream",
     "text": [
      "100%|██████████| 11/11 [00:00<00:00, 687.51it/s]\n"
     ]
    },
    {
     "name": "stdout",
     "output_type": "stream",
     "text": [
      "Epochs: 4 | Train Loss:  0.05534            | Train Accuracy:  0.771             | Val Loss:  0.05372             | Val Accuracy:  0.771\n"
     ]
    },
    {
     "name": "stderr",
     "output_type": "stream",
     "text": [
      "100%|██████████| 11/11 [00:00<00:00, 687.52it/s]\n"
     ]
    },
    {
     "name": "stdout",
     "output_type": "stream",
     "text": [
      "Epochs: 5 | Train Loss:  0.04878            | Train Accuracy:  0.798             | Val Loss:  0.05029             | Val Accuracy:  0.790\n"
     ]
    },
    {
     "name": "stderr",
     "output_type": "stream",
     "text": [
      "100%|██████████| 11/11 [00:00<00:00, 523.79it/s]\n"
     ]
    },
    {
     "name": "stdout",
     "output_type": "stream",
     "text": [
      "Epochs: 6 | Train Loss:  0.04423            | Train Accuracy:  0.853             | Val Loss:  0.04819             | Val Accuracy:  0.810\n",
      "Experiment 2\n"
     ]
    },
    {
     "name": "stderr",
     "output_type": "stream",
     "text": [
      "100%|██████████| 11/11 [00:00<00:00, 578.95it/s]\n"
     ]
    },
    {
     "name": "stdout",
     "output_type": "stream",
     "text": [
      "Epochs: 1 | Train Loss:  0.07212            | Train Accuracy:  0.578             | Val Loss:  0.05919             | Val Accuracy:  0.714\n"
     ]
    },
    {
     "name": "stderr",
     "output_type": "stream",
     "text": [
      "100%|██████████| 11/11 [00:00<00:00, 578.90it/s]\n"
     ]
    },
    {
     "name": "stdout",
     "output_type": "stream",
     "text": [
      "Epochs: 2 | Train Loss:  0.06762            | Train Accuracy:  0.615             | Val Loss:  0.05733             | Val Accuracy:  0.705\n"
     ]
    },
    {
     "name": "stderr",
     "output_type": "stream",
     "text": [
      "100%|██████████| 11/11 [00:00<00:00, 611.12it/s]\n"
     ]
    },
    {
     "name": "stdout",
     "output_type": "stream",
     "text": [
      "Epochs: 3 | Train Loss:  0.05961            | Train Accuracy:  0.734             | Val Loss:  0.05458             | Val Accuracy:  0.743\n"
     ]
    },
    {
     "name": "stderr",
     "output_type": "stream",
     "text": [
      "100%|██████████| 11/11 [00:00<00:00, 578.93it/s]\n"
     ]
    },
    {
     "name": "stdout",
     "output_type": "stream",
     "text": [
      "Epochs: 4 | Train Loss:  0.05401            | Train Accuracy:  0.780             | Val Loss:  0.05158             | Val Accuracy:  0.771\n"
     ]
    },
    {
     "name": "stderr",
     "output_type": "stream",
     "text": [
      "100%|██████████| 11/11 [00:00<00:00, 423.10it/s]\n"
     ]
    },
    {
     "name": "stdout",
     "output_type": "stream",
     "text": [
      "Epochs: 5 | Train Loss:  0.04794            | Train Accuracy:  0.798             | Val Loss:  0.04927             | Val Accuracy:  0.752\n"
     ]
    },
    {
     "name": "stderr",
     "output_type": "stream",
     "text": [
      "100%|██████████| 11/11 [00:00<00:00, 578.92it/s]\n"
     ]
    },
    {
     "name": "stdout",
     "output_type": "stream",
     "text": [
      "Epochs: 6 | Train Loss:  0.04333            | Train Accuracy:  0.835             | Val Loss:  0.04699             | Val Accuracy:  0.781\n",
      "Experiment 3\n"
     ]
    },
    {
     "name": "stderr",
     "output_type": "stream",
     "text": [
      "100%|██████████| 11/11 [00:00<00:00, 268.29it/s]\n"
     ]
    },
    {
     "name": "stdout",
     "output_type": "stream",
     "text": [
      "Epochs: 1 | Train Loss:  0.08058            | Train Accuracy:  0.440             | Val Loss:  0.07944             | Val Accuracy:  0.381\n"
     ]
    },
    {
     "name": "stderr",
     "output_type": "stream",
     "text": [
      "100%|██████████| 11/11 [00:00<00:00, 261.91it/s]\n"
     ]
    },
    {
     "name": "stdout",
     "output_type": "stream",
     "text": [
      "Epochs: 2 | Train Loss:  0.06714            | Train Accuracy:  0.606             | Val Loss:  0.06703             | Val Accuracy:  0.657\n"
     ]
    },
    {
     "name": "stderr",
     "output_type": "stream",
     "text": [
      "100%|██████████| 11/11 [00:00<00:00, 234.05it/s]\n"
     ]
    },
    {
     "name": "stdout",
     "output_type": "stream",
     "text": [
      "Epochs: 3 | Train Loss:  0.05954            | Train Accuracy:  0.661             | Val Loss:  0.06620             | Val Accuracy:  0.686\n"
     ]
    },
    {
     "name": "stderr",
     "output_type": "stream",
     "text": [
      "100%|██████████| 11/11 [00:00<00:00, 244.45it/s]\n"
     ]
    },
    {
     "name": "stdout",
     "output_type": "stream",
     "text": [
      "Epochs: 4 | Train Loss:  0.06062            | Train Accuracy:  0.752             | Val Loss:  0.06567             | Val Accuracy:  0.724\n"
     ]
    },
    {
     "name": "stderr",
     "output_type": "stream",
     "text": [
      "100%|██████████| 11/11 [00:00<00:00, 478.33it/s]\n"
     ]
    },
    {
     "name": "stdout",
     "output_type": "stream",
     "text": [
      "Epochs: 5 | Train Loss:  0.05471            | Train Accuracy:  0.752             | Val Loss:  0.05789             | Val Accuracy:  0.752\n"
     ]
    },
    {
     "name": "stderr",
     "output_type": "stream",
     "text": [
      "100%|██████████| 11/11 [00:00<00:00, 499.99it/s]\n"
     ]
    },
    {
     "name": "stdout",
     "output_type": "stream",
     "text": [
      "Epochs: 6 | Train Loss:  0.04593            | Train Accuracy:  0.817             | Val Loss:  0.05136             | Val Accuracy:  0.781\n",
      "Experiment 4\n"
     ]
    },
    {
     "name": "stderr",
     "output_type": "stream",
     "text": [
      "100%|██████████| 11/11 [00:00<00:00, 647.06it/s]\n"
     ]
    },
    {
     "name": "stdout",
     "output_type": "stream",
     "text": [
      "Epochs: 1 | Train Loss:  0.09226            | Train Accuracy:  0.358             | Val Loss:  6.00521             | Val Accuracy:  0.457\n"
     ]
    },
    {
     "name": "stderr",
     "output_type": "stream",
     "text": [
      "100%|██████████| 11/11 [00:00<00:00, 647.08it/s]\n"
     ]
    },
    {
     "name": "stdout",
     "output_type": "stream",
     "text": [
      "Epochs: 2 | Train Loss:  0.07883            | Train Accuracy:  0.495             | Val Loss:  5.98721             | Val Accuracy:  0.619\n"
     ]
    },
    {
     "name": "stderr",
     "output_type": "stream",
     "text": [
      "100%|██████████| 11/11 [00:00<00:00, 647.07it/s]\n"
     ]
    },
    {
     "name": "stdout",
     "output_type": "stream",
     "text": [
      "Epochs: 3 | Train Loss:  0.06935            | Train Accuracy:  0.624             | Val Loss:  5.98779             | Val Accuracy:  0.705\n"
     ]
    },
    {
     "name": "stderr",
     "output_type": "stream",
     "text": [
      "100%|██████████| 11/11 [00:00<00:00, 687.54it/s]\n"
     ]
    },
    {
     "name": "stdout",
     "output_type": "stream",
     "text": [
      "Epochs: 4 | Train Loss:  0.06750            | Train Accuracy:  0.651             | Val Loss:  5.98551             | Val Accuracy:  0.695\n"
     ]
    },
    {
     "name": "stderr",
     "output_type": "stream",
     "text": [
      "100%|██████████| 11/11 [00:00<00:00, 523.83it/s]\n"
     ]
    },
    {
     "name": "stdout",
     "output_type": "stream",
     "text": [
      "Epochs: 5 | Train Loss:  0.05920            | Train Accuracy:  0.725             | Val Loss:  5.97709             | Val Accuracy:  0.752\n"
     ]
    },
    {
     "name": "stderr",
     "output_type": "stream",
     "text": [
      "100%|██████████| 11/11 [00:00<00:00, 611.06it/s]\n"
     ]
    },
    {
     "name": "stdout",
     "output_type": "stream",
     "text": [
      "Epochs: 6 | Train Loss:  0.04873            | Train Accuracy:  0.789             | Val Loss:  5.97118             | Val Accuracy:  0.743\n",
      "ternary\n",
      "Experiment 0\n"
     ]
    },
    {
     "name": "stderr",
     "output_type": "stream",
     "text": [
      "100%|██████████| 11/11 [00:00<00:00, 647.03it/s]\n"
     ]
    },
    {
     "name": "stdout",
     "output_type": "stream",
     "text": [
      "Epochs: 1 | Train Loss:  0.08481            | Train Accuracy:  0.394             | Val Loss:  52.69756             | Val Accuracy:  0.448\n"
     ]
    },
    {
     "name": "stderr",
     "output_type": "stream",
     "text": [
      "100%|██████████| 11/11 [00:00<00:00, 687.51it/s]\n"
     ]
    },
    {
     "name": "stdout",
     "output_type": "stream",
     "text": [
      "Epochs: 2 | Train Loss:  0.07219            | Train Accuracy:  0.541             | Val Loss:  52.68525             | Val Accuracy:  0.648\n"
     ]
    },
    {
     "name": "stderr",
     "output_type": "stream",
     "text": [
      "100%|██████████| 11/11 [00:00<00:00, 647.03it/s]\n"
     ]
    },
    {
     "name": "stdout",
     "output_type": "stream",
     "text": [
      "Epochs: 3 | Train Loss:  0.06610            | Train Accuracy:  0.688             | Val Loss:  52.68160             | Val Accuracy:  0.676\n"
     ]
    },
    {
     "name": "stderr",
     "output_type": "stream",
     "text": [
      "100%|██████████| 11/11 [00:00<00:00, 549.93it/s]\n"
     ]
    },
    {
     "name": "stdout",
     "output_type": "stream",
     "text": [
      "Epochs: 4 | Train Loss:  0.06191            | Train Accuracy:  0.697             | Val Loss:  52.67624             | Val Accuracy:  0.714\n"
     ]
    },
    {
     "name": "stderr",
     "output_type": "stream",
     "text": [
      "100%|██████████| 11/11 [00:00<00:00, 687.51it/s]\n"
     ]
    },
    {
     "name": "stdout",
     "output_type": "stream",
     "text": [
      "Epochs: 5 | Train Loss:  0.05256            | Train Accuracy:  0.734             | Val Loss:  52.66833             | Val Accuracy:  0.762\n"
     ]
    },
    {
     "name": "stderr",
     "output_type": "stream",
     "text": [
      "100%|██████████| 11/11 [00:00<00:00, 687.52it/s]\n"
     ]
    },
    {
     "name": "stdout",
     "output_type": "stream",
     "text": [
      "Epochs: 6 | Train Loss:  0.04501            | Train Accuracy:  0.835             | Val Loss:  52.66547             | Val Accuracy:  0.752\n",
      "Experiment 1\n"
     ]
    },
    {
     "name": "stderr",
     "output_type": "stream",
     "text": [
      "100%|██████████| 11/11 [00:00<00:00, 578.95it/s]\n"
     ]
    },
    {
     "name": "stdout",
     "output_type": "stream",
     "text": [
      "Epochs: 1 | Train Loss:  0.07152            | Train Accuracy:  0.550             | Val Loss:  0.08312             | Val Accuracy:  0.457\n"
     ]
    },
    {
     "name": "stderr",
     "output_type": "stream",
     "text": [
      "100%|██████████| 11/11 [00:00<00:00, 578.97it/s]\n"
     ]
    },
    {
     "name": "stdout",
     "output_type": "stream",
     "text": [
      "Epochs: 2 | Train Loss:  0.06585            | Train Accuracy:  0.624             | Val Loss:  0.07611             | Val Accuracy:  0.533\n"
     ]
    },
    {
     "name": "stderr",
     "output_type": "stream",
     "text": [
      "100%|██████████| 11/11 [00:00<00:00, 647.10it/s]\n"
     ]
    },
    {
     "name": "stdout",
     "output_type": "stream",
     "text": [
      "Epochs: 3 | Train Loss:  0.05973            | Train Accuracy:  0.670             | Val Loss:  0.07040             | Val Accuracy:  0.638\n"
     ]
    },
    {
     "name": "stderr",
     "output_type": "stream",
     "text": [
      "100%|██████████| 11/11 [00:00<00:00, 550.03it/s]\n"
     ]
    },
    {
     "name": "stdout",
     "output_type": "stream",
     "text": [
      "Epochs: 4 | Train Loss:  0.05404            | Train Accuracy:  0.743             | Val Loss:  0.06714             | Val Accuracy:  0.648\n"
     ]
    },
    {
     "name": "stderr",
     "output_type": "stream",
     "text": [
      "100%|██████████| 11/11 [00:00<00:00, 500.03it/s]\n"
     ]
    },
    {
     "name": "stdout",
     "output_type": "stream",
     "text": [
      "Epochs: 5 | Train Loss:  0.04962            | Train Accuracy:  0.771             | Val Loss:  0.06431             | Val Accuracy:  0.676\n"
     ]
    },
    {
     "name": "stderr",
     "output_type": "stream",
     "text": [
      "100%|██████████| 11/11 [00:00<00:00, 647.05it/s]\n"
     ]
    },
    {
     "name": "stdout",
     "output_type": "stream",
     "text": [
      "Epochs: 6 | Train Loss:  0.04531            | Train Accuracy:  0.817             | Val Loss:  0.06192             | Val Accuracy:  0.676\n",
      "Experiment 2\n"
     ]
    },
    {
     "name": "stderr",
     "output_type": "stream",
     "text": [
      "100%|██████████| 11/11 [00:00<00:00, 261.91it/s]\n"
     ]
    },
    {
     "name": "stdout",
     "output_type": "stream",
     "text": [
      "Epochs: 1 | Train Loss:  0.07859            | Train Accuracy:  0.486             | Val Loss:  0.07715             | Val Accuracy:  0.505\n"
     ]
    },
    {
     "name": "stderr",
     "output_type": "stream",
     "text": [
      "100%|██████████| 11/11 [00:00<00:00, 244.44it/s]\n"
     ]
    },
    {
     "name": "stdout",
     "output_type": "stream",
     "text": [
      "Epochs: 2 | Train Loss:  0.07292            | Train Accuracy:  0.486             | Val Loss:  0.07154             | Val Accuracy:  0.571\n"
     ]
    },
    {
     "name": "stderr",
     "output_type": "stream",
     "text": [
      "100%|██████████| 11/11 [00:00<00:00, 234.04it/s]\n"
     ]
    },
    {
     "name": "stdout",
     "output_type": "stream",
     "text": [
      "Epochs: 3 | Train Loss:  0.06572            | Train Accuracy:  0.624             | Val Loss:  0.06604             | Val Accuracy:  0.619\n"
     ]
    },
    {
     "name": "stderr",
     "output_type": "stream",
     "text": [
      "100%|██████████| 11/11 [00:00<00:00, 610.99it/s]\n"
     ]
    },
    {
     "name": "stdout",
     "output_type": "stream",
     "text": [
      "Epochs: 4 | Train Loss:  0.05906            | Train Accuracy:  0.688             | Val Loss:  0.06080             | Val Accuracy:  0.695\n"
     ]
    },
    {
     "name": "stderr",
     "output_type": "stream",
     "text": [
      "100%|██████████| 11/11 [00:00<00:00, 574.06it/s]\n"
     ]
    },
    {
     "name": "stdout",
     "output_type": "stream",
     "text": [
      "Epochs: 5 | Train Loss:  0.05112            | Train Accuracy:  0.807             | Val Loss:  0.05750             | Val Accuracy:  0.752\n"
     ]
    },
    {
     "name": "stderr",
     "output_type": "stream",
     "text": [
      "100%|██████████| 11/11 [00:00<00:00, 478.41it/s]\n"
     ]
    },
    {
     "name": "stdout",
     "output_type": "stream",
     "text": [
      "Epochs: 6 | Train Loss:  0.04562            | Train Accuracy:  0.844             | Val Loss:  0.05554             | Val Accuracy:  0.752\n",
      "Experiment 3\n"
     ]
    },
    {
     "name": "stderr",
     "output_type": "stream",
     "text": [
      "100%|██████████| 11/11 [00:00<00:00, 647.03it/s]\n"
     ]
    },
    {
     "name": "stdout",
     "output_type": "stream",
     "text": [
      "Epochs: 1 | Train Loss:  0.08096            | Train Accuracy:  0.431             | Val Loss:  0.07934             | Val Accuracy:  0.562\n"
     ]
    },
    {
     "name": "stderr",
     "output_type": "stream",
     "text": [
      "100%|██████████| 11/11 [00:00<00:00, 687.54it/s]\n"
     ]
    },
    {
     "name": "stdout",
     "output_type": "stream",
     "text": [
      "Epochs: 2 | Train Loss:  0.07338            | Train Accuracy:  0.505             | Val Loss:  0.07199             | Val Accuracy:  0.667\n"
     ]
    },
    {
     "name": "stderr",
     "output_type": "stream",
     "text": [
      "100%|██████████| 11/11 [00:00<00:00, 611.11it/s]\n"
     ]
    },
    {
     "name": "stdout",
     "output_type": "stream",
     "text": [
      "Epochs: 3 | Train Loss:  0.06774            | Train Accuracy:  0.651             | Val Loss:  0.06857             | Val Accuracy:  0.686\n"
     ]
    },
    {
     "name": "stderr",
     "output_type": "stream",
     "text": [
      "100%|██████████| 11/11 [00:00<00:00, 647.06it/s]\n"
     ]
    },
    {
     "name": "stdout",
     "output_type": "stream",
     "text": [
      "Epochs: 4 | Train Loss:  0.06466            | Train Accuracy:  0.716             | Val Loss:  0.06540             | Val Accuracy:  0.686\n"
     ]
    },
    {
     "name": "stderr",
     "output_type": "stream",
     "text": [
      "100%|██████████| 11/11 [00:00<00:00, 523.81it/s]\n"
     ]
    },
    {
     "name": "stdout",
     "output_type": "stream",
     "text": [
      "Epochs: 5 | Train Loss:  0.05814            | Train Accuracy:  0.743             | Val Loss:  0.05867             | Val Accuracy:  0.743\n"
     ]
    },
    {
     "name": "stderr",
     "output_type": "stream",
     "text": [
      "100%|██████████| 11/11 [00:00<00:00, 611.20it/s]\n"
     ]
    },
    {
     "name": "stdout",
     "output_type": "stream",
     "text": [
      "Epochs: 6 | Train Loss:  0.05049            | Train Accuracy:  0.761             | Val Loss:  0.05629             | Val Accuracy:  0.781\n",
      "Experiment 4\n"
     ]
    },
    {
     "name": "stderr",
     "output_type": "stream",
     "text": [
      "100%|██████████| 11/11 [00:00<00:00, 647.05it/s]\n"
     ]
    },
    {
     "name": "stdout",
     "output_type": "stream",
     "text": [
      "Epochs: 1 | Train Loss:  0.09439            | Train Accuracy:  0.459             | Val Loss:  0.08137             | Val Accuracy:  0.533\n"
     ]
    },
    {
     "name": "stderr",
     "output_type": "stream",
     "text": [
      "100%|██████████| 11/11 [00:00<00:00, 647.06it/s]\n"
     ]
    },
    {
     "name": "stdout",
     "output_type": "stream",
     "text": [
      "Epochs: 2 | Train Loss:  0.07552            | Train Accuracy:  0.523             | Val Loss:  0.06575             | Val Accuracy:  0.638\n"
     ]
    },
    {
     "name": "stderr",
     "output_type": "stream",
     "text": [
      "100%|██████████| 11/11 [00:00<00:00, 647.14it/s]\n"
     ]
    },
    {
     "name": "stdout",
     "output_type": "stream",
     "text": [
      "Epochs: 3 | Train Loss:  0.06986            | Train Accuracy:  0.624             | Val Loss:  0.07446             | Val Accuracy:  0.629\n"
     ]
    },
    {
     "name": "stderr",
     "output_type": "stream",
     "text": [
      "100%|██████████| 11/11 [00:00<00:00, 550.07it/s]\n"
     ]
    },
    {
     "name": "stdout",
     "output_type": "stream",
     "text": [
      "Epochs: 4 | Train Loss:  0.07222            | Train Accuracy:  0.642             | Val Loss:  0.07421             | Val Accuracy:  0.657\n"
     ]
    },
    {
     "name": "stderr",
     "output_type": "stream",
     "text": [
      "100%|██████████| 11/11 [00:00<00:00, 687.56it/s]\n"
     ]
    },
    {
     "name": "stdout",
     "output_type": "stream",
     "text": [
      "Epochs: 5 | Train Loss:  0.06271            | Train Accuracy:  0.688             | Val Loss:  0.06320             | Val Accuracy:  0.714\n"
     ]
    },
    {
     "name": "stderr",
     "output_type": "stream",
     "text": [
      "100%|██████████| 11/11 [00:00<00:00, 687.56it/s]\n"
     ]
    },
    {
     "name": "stdout",
     "output_type": "stream",
     "text": [
      "Epochs: 6 | Train Loss:  0.04911            | Train Accuracy:  0.807             | Val Loss:  0.05811             | Val Accuracy:  0.705\n"
     ]
    }
   ],
   "source": [
    "weight_sampling_list = ['normal', 'uniform', 'binary', 'ternary']\n",
    "seeds_value = [31, 51, 62, 87, 91]\n",
    "experiments_acc_train = {} #словарь для хранения оценок accuracy на train мн-ве\n",
    "experiments_acc_val = {} #словарь для хранения оценок accuracy на val мн-ве\n",
    "for weight_sampling in weight_sampling_list:\n",
    "    print(weight_sampling)\n",
    "    experiment_res = perform_experiment(X_train, X_test, y_train, y_test,\n",
    "                                        seeds_value, weight_sampling=weight_sampling)\n",
    "    experiments_acc_train[weight_sampling] = experiment_res[0]\n",
    "    experiments_acc_val[weight_sampling] = experiment_res[1]"
   ]
  },
  {
   "attachments": {},
   "cell_type": "markdown",
   "metadata": {},
   "source": [
    "## Анализ результатов"
   ]
  },
  {
   "cell_type": "code",
   "execution_count": 9,
   "metadata": {},
   "outputs": [],
   "source": [
    "#DataFrames на основе полученных значений accuracy\n",
    "df_acc_train = pd.DataFrame.from_dict(experiments_acc_train, orient='index')\n",
    "df_acc_val = pd.DataFrame.from_dict(experiments_acc_val, orient='index')"
   ]
  },
  {
   "cell_type": "code",
   "execution_count": 10,
   "metadata": {},
   "outputs": [],
   "source": [
    "#расчет среднего значения accuracy и полуширины доверительного интервала\n",
    "num_experiments = len(seeds_value)\n",
    "df_acc_train['mean'] = \\\n",
    "    df_acc_train.iloc[:, 0:num_experiments].apply(lambda row: np.mean(row), \n",
    "                                                  axis=1)\n",
    "\n",
    "df_acc_train['half_of_confidence_interval'] = \\\n",
    "    df_acc_train.iloc[:, 0:num_experiments].apply(lambda row: get_half_of_conf_interval(row), \n",
    "                                                  axis=1)\n",
    "\n",
    "df_acc_val['mean'] = \\\n",
    "    df_acc_val.iloc[:, 0:num_experiments].apply(lambda row: np.mean(row), \n",
    "                                                  axis=1)\n",
    "\n",
    "df_acc_val['half_of_confidence_interval'] = \\\n",
    "    df_acc_val.iloc[:, 0:num_experiments].apply(lambda row: get_half_of_conf_interval(row), \n",
    "                                                  axis=1)"
   ]
  },
  {
   "cell_type": "code",
   "execution_count": 11,
   "metadata": {},
   "outputs": [
    {
     "data": {
      "text/html": [
       "<div>\n",
       "<style scoped>\n",
       "    .dataframe tbody tr th:only-of-type {\n",
       "        vertical-align: middle;\n",
       "    }\n",
       "\n",
       "    .dataframe tbody tr th {\n",
       "        vertical-align: top;\n",
       "    }\n",
       "\n",
       "    .dataframe thead th {\n",
       "        text-align: right;\n",
       "    }\n",
       "</style>\n",
       "<table border=\"1\" class=\"dataframe\">\n",
       "  <thead>\n",
       "    <tr style=\"text-align: right;\">\n",
       "      <th></th>\n",
       "      <th>0</th>\n",
       "      <th>1</th>\n",
       "      <th>2</th>\n",
       "      <th>3</th>\n",
       "      <th>4</th>\n",
       "      <th>mean</th>\n",
       "      <th>half_of_confidence_interval</th>\n",
       "    </tr>\n",
       "  </thead>\n",
       "  <tbody>\n",
       "    <tr>\n",
       "      <th>normal</th>\n",
       "      <td>0.880734</td>\n",
       "      <td>0.816514</td>\n",
       "      <td>0.853211</td>\n",
       "      <td>0.862385</td>\n",
       "      <td>0.862385</td>\n",
       "      <td>0.855046</td>\n",
       "      <td>0.029486</td>\n",
       "    </tr>\n",
       "    <tr>\n",
       "      <th>uniform</th>\n",
       "      <td>0.880734</td>\n",
       "      <td>0.853211</td>\n",
       "      <td>0.908257</td>\n",
       "      <td>0.862385</td>\n",
       "      <td>0.899083</td>\n",
       "      <td>0.880734</td>\n",
       "      <td>0.029043</td>\n",
       "    </tr>\n",
       "    <tr>\n",
       "      <th>binary</th>\n",
       "      <td>0.871560</td>\n",
       "      <td>0.853211</td>\n",
       "      <td>0.834862</td>\n",
       "      <td>0.816514</td>\n",
       "      <td>0.788991</td>\n",
       "      <td>0.833028</td>\n",
       "      <td>0.039788</td>\n",
       "    </tr>\n",
       "    <tr>\n",
       "      <th>ternary</th>\n",
       "      <td>0.834862</td>\n",
       "      <td>0.816514</td>\n",
       "      <td>0.844037</td>\n",
       "      <td>0.761468</td>\n",
       "      <td>0.807339</td>\n",
       "      <td>0.812844</td>\n",
       "      <td>0.039951</td>\n",
       "    </tr>\n",
       "  </tbody>\n",
       "</table>\n",
       "</div>"
      ],
      "text/plain": [
       "                0         1         2         3         4      mean  \\\n",
       "normal   0.880734  0.816514  0.853211  0.862385  0.862385  0.855046   \n",
       "uniform  0.880734  0.853211  0.908257  0.862385  0.899083  0.880734   \n",
       "binary   0.871560  0.853211  0.834862  0.816514  0.788991  0.833028   \n",
       "ternary  0.834862  0.816514  0.844037  0.761468  0.807339  0.812844   \n",
       "\n",
       "         half_of_confidence_interval  \n",
       "normal                      0.029486  \n",
       "uniform                     0.029043  \n",
       "binary                      0.039788  \n",
       "ternary                     0.039951  "
      ]
     },
     "execution_count": 11,
     "metadata": {},
     "output_type": "execute_result"
    }
   ],
   "source": [
    "df_acc_train"
   ]
  },
  {
   "cell_type": "code",
   "execution_count": 12,
   "metadata": {},
   "outputs": [
    {
     "data": {
      "text/html": [
       "<div>\n",
       "<style scoped>\n",
       "    .dataframe tbody tr th:only-of-type {\n",
       "        vertical-align: middle;\n",
       "    }\n",
       "\n",
       "    .dataframe tbody tr th {\n",
       "        vertical-align: top;\n",
       "    }\n",
       "\n",
       "    .dataframe thead th {\n",
       "        text-align: right;\n",
       "    }\n",
       "</style>\n",
       "<table border=\"1\" class=\"dataframe\">\n",
       "  <thead>\n",
       "    <tr style=\"text-align: right;\">\n",
       "      <th></th>\n",
       "      <th>0</th>\n",
       "      <th>1</th>\n",
       "      <th>2</th>\n",
       "      <th>3</th>\n",
       "      <th>4</th>\n",
       "      <th>mean</th>\n",
       "      <th>half_of_confidence_interval</th>\n",
       "    </tr>\n",
       "  </thead>\n",
       "  <tbody>\n",
       "    <tr>\n",
       "      <th>normal</th>\n",
       "      <td>0.752381</td>\n",
       "      <td>0.790476</td>\n",
       "      <td>0.742857</td>\n",
       "      <td>0.771429</td>\n",
       "      <td>0.809524</td>\n",
       "      <td>0.773333</td>\n",
       "      <td>0.033863</td>\n",
       "    </tr>\n",
       "    <tr>\n",
       "      <th>uniform</th>\n",
       "      <td>0.723810</td>\n",
       "      <td>0.733333</td>\n",
       "      <td>0.790476</td>\n",
       "      <td>0.742857</td>\n",
       "      <td>0.704762</td>\n",
       "      <td>0.739048</td>\n",
       "      <td>0.039752</td>\n",
       "    </tr>\n",
       "    <tr>\n",
       "      <th>binary</th>\n",
       "      <td>0.742857</td>\n",
       "      <td>0.809524</td>\n",
       "      <td>0.780952</td>\n",
       "      <td>0.780952</td>\n",
       "      <td>0.742857</td>\n",
       "      <td>0.771429</td>\n",
       "      <td>0.035476</td>\n",
       "    </tr>\n",
       "    <tr>\n",
       "      <th>ternary</th>\n",
       "      <td>0.752381</td>\n",
       "      <td>0.676190</td>\n",
       "      <td>0.752381</td>\n",
       "      <td>0.780952</td>\n",
       "      <td>0.704762</td>\n",
       "      <td>0.733333</td>\n",
       "      <td>0.052219</td>\n",
       "    </tr>\n",
       "  </tbody>\n",
       "</table>\n",
       "</div>"
      ],
      "text/plain": [
       "                0         1         2         3         4      mean  \\\n",
       "normal   0.752381  0.790476  0.742857  0.771429  0.809524  0.773333   \n",
       "uniform  0.723810  0.733333  0.790476  0.742857  0.704762  0.739048   \n",
       "binary   0.742857  0.809524  0.780952  0.780952  0.742857  0.771429   \n",
       "ternary  0.752381  0.676190  0.752381  0.780952  0.704762  0.733333   \n",
       "\n",
       "         half_of_confidence_interval  \n",
       "normal                      0.033863  \n",
       "uniform                     0.039752  \n",
       "binary                      0.035476  \n",
       "ternary                     0.052219  "
      ]
     },
     "execution_count": 12,
     "metadata": {},
     "output_type": "execute_result"
    }
   ],
   "source": [
    "df_acc_val"
   ]
  },
  {
   "attachments": {},
   "cell_type": "markdown",
   "metadata": {},
   "source": [
    "Построим rрафик, отображающий среднюю оценку accuracy по всем экспериментам на train и val множествах\n",
    "в зависимости от вида распределения, на основе которого были получены веса ядер\n",
    "сверточных слоев, с доверительными интервалами, рассчитанными при доверительной вероятности 95%. <br>"
   ]
  },
  {
   "cell_type": "code",
   "execution_count": 13,
   "metadata": {},
   "outputs": [
    {
     "data": {
      "image/png": "[encoded data removed]",
      "text/plain": [
       "<Figure size 640x480 with 1 Axes>"
      ]
     },
     "metadata": {},
     "output_type": "display_data"
    }
   ],
   "source": [
    "x_axis = df_acc_train.index\n",
    "y_axis = df_acc_train['mean']\n",
    "err_val = df_acc_train['half_of_confidence_interval'].values\n",
    " \n",
    "\n",
    "plt.errorbar(x_axis, y_axis, yerr=err_val, fmt='og')\n",
    "\n",
    "x_axis = df_acc_val.index\n",
    "y_axis = df_acc_val['mean']\n",
    "err_val = df_acc_val['half_of_confidence_interval'].values\n",
    "plt.errorbar(x_axis, y_axis, yerr=err_val, fmt='ob')\n",
    "\n",
    "plt.title('Model Accuracy for Train dataset')\n",
    "plt.xlabel('Types of the sampling distribution of the weights')\n",
    "plt.ylabel('accuracy')\n",
    "plt.legend(['Train', 'Test'])\n",
    "plt.show()"
   ]
  },
  {
   "attachments": {},
   "cell_type": "markdown",
   "metadata": {},
   "source": [
    "Из построенных графиков можно заключить, что точность предсказаний модели на обучающем и тестовом множестве\n",
    "зависит от типа распределения, из которого была осуществлена выборка весов ядер сверток. На обучающем множестве \n",
    "максимальная точность достигается при выборе весов из равномерного распределения $U(-1, 1)$, а наименьшая -\n",
    "при выборе весов из тернарных значений $[-1, 0, 1]$. При этом ширина доверительного интервала, построенного по \n",
    "5 вычислительным экспериментам, в случае выбора весов из бинарного множества $[-1, 1]$ и тернарного множества $[-1, 0, 1]$\n",
    "больше, чем их выборе из равномерного $U(-1, 1)$ и нормального $N(0, 1)$ распределений. На тестовом множестве\n",
    "максимальная точность модели достигается в случае выбора весов ядер сверток из нормального распределения $N(0, 1)$ и из множества \n",
    "бинарных значений $[-1, 1]$. При выборе весов из равномерного распределения $U(-1, 1)$ и из множества тернарных значений $[-1, 0, 1]$\n",
    "происходит падение точности предсказаний и увеличение ширины доверительного интервала. <br>\n",
    "Наибольшее расхождение между оценками точности предсказаний на обучающем и тестовом множествах наблюдается для случае выбора\n",
    "весов ядер из равномерного распределения $U(-1, 1)$, а наименьшее - для случая выбора весов из множества \n",
    "бинарных значений $[-1, 1]$. Откуда можно предположить, что при прочих равных условиях выбор весов ядер сверток из бинарного распределения позволяет достичь более высокой точности в отсутствии значительного переобучения модели, чем при выборе весов другими способами.\n"
   ]
  },
  {
   "attachments": {},
   "cell_type": "markdown",
   "metadata": {},
   "source": [
    "С учетом ширины доверительных интервалов можно заключить, что полученные в данной работе точности предсказания модели на Ham dataset согласуются с точностью в 0.7257, полученной в работе \"ROCKET: Exceptionally fast and accurate time series classification using random convolutional kernels.\""
   ]
  }
 ],
 "metadata": {
  "kernelspec": {
   "display_name": "Python 3",
   "language": "python",
   "name": "python3"
  },
  "language_info": {
   "codemirror_mode": {
    "name": "ipython",
    "version": 3
   },
   "file_extension": ".py",
   "mimetype": "text/x-python",
   "name": "python",
   "nbconvert_exporter": "python",
   "pygments_lexer": "ipython3",
   "version": "3.10.3"
  },
  "orig_nbformat": 4
 },
 "nbformat": 4,
 "nbformat_minor": 2
}
